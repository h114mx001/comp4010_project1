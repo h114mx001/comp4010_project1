{
  "cells": [
    {
      "cell_type": "code",
      "execution_count": null,
      "metadata": {
        "colab": {
          "base_uri": "https://localhost:8080/"
        },
        "id": "tb5tyx4PrVfU",
        "outputId": "8c2a7494-90d1-4f3b-df26-f4f251bc281b"
      },
      "outputs": [
        {
          "name": "stdout",
          "output_type": "stream",
          "text": [
            "Requirement already satisfied: dash in c:\\users\\ice\\appdata\\local\\programs\\python\\python312\\lib\\site-packages (3.0.0)\n",
            "Requirement already satisfied: Flask<3.1,>=1.0.4 in c:\\users\\ice\\appdata\\local\\programs\\python\\python312\\lib\\site-packages (from dash) (3.0.3)\n",
            "Requirement already satisfied: Werkzeug<3.1 in c:\\users\\ice\\appdata\\local\\programs\\python\\python312\\lib\\site-packages (from dash) (3.0.6)\n",
            "Requirement already satisfied: plotly>=5.0.0 in c:\\users\\ice\\appdata\\local\\programs\\python\\python312\\lib\\site-packages (from dash) (6.0.1)\n",
            "Requirement already satisfied: importlib-metadata in c:\\users\\ice\\appdata\\local\\programs\\python\\python312\\lib\\site-packages (from dash) (8.5.0)\n",
            "Requirement already satisfied: typing-extensions>=4.1.1 in c:\\users\\ice\\appdata\\local\\programs\\python\\python312\\lib\\site-packages (from dash) (4.12.2)\n",
            "Requirement already satisfied: requests in c:\\users\\ice\\appdata\\local\\programs\\python\\python312\\lib\\site-packages (from dash) (2.32.3)\n",
            "Requirement already satisfied: retrying in c:\\users\\ice\\appdata\\local\\programs\\python\\python312\\lib\\site-packages (from dash) (1.3.4)\n",
            "Requirement already satisfied: nest-asyncio in c:\\users\\ice\\appdata\\roaming\\python\\python312\\site-packages (from dash) (1.6.0)\n",
            "Requirement already satisfied: setuptools in c:\\users\\ice\\appdata\\local\\programs\\python\\python312\\lib\\site-packages (from dash) (75.2.0)\n",
            "Requirement already satisfied: stringcase>=1.2.0 in c:\\users\\ice\\appdata\\local\\programs\\python\\python312\\lib\\site-packages (from dash) (1.2.0)\n",
            "Requirement already satisfied: Jinja2>=3.1.2 in c:\\users\\ice\\appdata\\local\\programs\\python\\python312\\lib\\site-packages (from Flask<3.1,>=1.0.4->dash) (3.1.4)\n",
            "Requirement already satisfied: itsdangerous>=2.1.2 in c:\\users\\ice\\appdata\\local\\programs\\python\\python312\\lib\\site-packages (from Flask<3.1,>=1.0.4->dash) (2.2.0)\n",
            "Requirement already satisfied: click>=8.1.3 in c:\\users\\ice\\appdata\\local\\programs\\python\\python312\\lib\\site-packages (from Flask<3.1,>=1.0.4->dash) (8.1.7)\n",
            "Requirement already satisfied: blinker>=1.6.2 in c:\\users\\ice\\appdata\\local\\programs\\python\\python312\\lib\\site-packages (from Flask<3.1,>=1.0.4->dash) (1.9.0)\n",
            "Requirement already satisfied: narwhals>=1.15.1 in c:\\users\\ice\\appdata\\local\\programs\\python\\python312\\lib\\site-packages (from plotly>=5.0.0->dash) (1.31.0)\n",
            "Requirement already satisfied: packaging in c:\\users\\ice\\appdata\\local\\programs\\python\\python312\\lib\\site-packages (from plotly>=5.0.0->dash) (24.1)\n",
            "Requirement already satisfied: MarkupSafe>=2.1.1 in c:\\users\\ice\\appdata\\local\\programs\\python\\python312\\lib\\site-packages (from Werkzeug<3.1->dash) (3.0.2)\n",
            "Requirement already satisfied: zipp>=3.20 in c:\\users\\ice\\appdata\\local\\programs\\python\\python312\\lib\\site-packages (from importlib-metadata->dash) (3.21.0)\n",
            "Requirement already satisfied: charset-normalizer<4,>=2 in c:\\users\\ice\\appdata\\local\\programs\\python\\python312\\lib\\site-packages (from requests->dash) (3.4.0)\n",
            "Requirement already satisfied: idna<4,>=2.5 in c:\\users\\ice\\appdata\\local\\programs\\python\\python312\\lib\\site-packages (from requests->dash) (3.10)\n",
            "Requirement already satisfied: urllib3<3,>=1.21.1 in c:\\users\\ice\\appdata\\local\\programs\\python\\python312\\lib\\site-packages (from requests->dash) (2.2.3)\n",
            "Requirement already satisfied: certifi>=2017.4.17 in c:\\users\\ice\\appdata\\local\\programs\\python\\python312\\lib\\site-packages (from requests->dash) (2024.8.30)\n",
            "Requirement already satisfied: six>=1.7.0 in c:\\users\\ice\\appdata\\local\\programs\\python\\python312\\lib\\site-packages (from retrying->dash) (1.16.0)\n",
            "Requirement already satisfied: colorama in c:\\users\\ice\\appdata\\local\\programs\\python\\python312\\lib\\site-packages (from click>=8.1.3->Flask<3.1,>=1.0.4->dash) (0.4.6)\n"
          ]
        },
        {
          "name": "stderr",
          "output_type": "stream",
          "text": [
            "WARNING: Ignoring invalid distribution ~ailalib (C:\\Users\\ice\\AppData\\Local\\Programs\\Python\\Python312\\Lib\\site-packages)\n",
            "WARNING: Ignoring invalid distribution ~ailalib (C:\\Users\\ice\\AppData\\Local\\Programs\\Python\\Python312\\Lib\\site-packages)\n",
            "WARNING: Ignoring invalid distribution ~ailalib (C:\\Users\\ice\\AppData\\Local\\Programs\\Python\\Python312\\Lib\\site-packages)\n",
            "\n",
            "[notice] A new release of pip is available: 24.2 -> 25.0.1\n",
            "[notice] To update, run: python.exe -m pip install --upgrade pip\n"
          ]
        }
      ],
      "source": [
        "!pip install dash"
      ]
    },
    {
      "cell_type": "code",
      "execution_count": 2,
      "metadata": {
        "id": "kWGtDZ_UqP1W"
      },
      "outputs": [],
      "source": [
        "import pandas as pd\n",
        "import dash\n",
        "from dash import dcc, html\n",
        "from dash.dependencies import Input, Output\n",
        "import plotly.express as px\n",
        "import plotly.graph_objects as go\n",
        "from plotly.subplots import make_subplots  # Add this line\n",
        "\n"
      ]
    },
    {
      "cell_type": "code",
      "execution_count": 4,
      "metadata": {
        "colab": {
          "base_uri": "https://localhost:8080/",
          "height": 417
        },
        "id": "1BPBJuU0rZor",
        "outputId": "68f88fb9-aed0-43d8-cb44-da6e51db19e4"
      },
      "outputs": [
        {
          "data": {
            "text/html": [
              "<div>\n",
              "<style scoped>\n",
              "    .dataframe tbody tr th:only-of-type {\n",
              "        vertical-align: middle;\n",
              "    }\n",
              "\n",
              "    .dataframe tbody tr th {\n",
              "        vertical-align: top;\n",
              "    }\n",
              "\n",
              "    .dataframe thead th {\n",
              "        text-align: right;\n",
              "    }\n",
              "</style>\n",
              "<table border=\"1\" class=\"dataframe\">\n",
              "  <thead>\n",
              "    <tr style=\"text-align: right;\">\n",
              "      <th></th>\n",
              "      <th>edition</th>\n",
              "      <th>year</th>\n",
              "      <th>country</th>\n",
              "      <th>city</th>\n",
              "      <th>countries</th>\n",
              "      <th>all_contestant</th>\n",
              "      <th>male_contestant</th>\n",
              "      <th>female_contestant</th>\n",
              "      <th>start_date</th>\n",
              "      <th>end_date</th>\n",
              "    </tr>\n",
              "  </thead>\n",
              "  <tbody>\n",
              "    <tr>\n",
              "      <th>0</th>\n",
              "      <td>65</td>\n",
              "      <td>2024</td>\n",
              "      <td>United Kingdom</td>\n",
              "      <td>Bath</td>\n",
              "      <td>108</td>\n",
              "      <td>609</td>\n",
              "      <td>528</td>\n",
              "      <td>81.0</td>\n",
              "      <td>2024-07-11</td>\n",
              "      <td>2024-07-22</td>\n",
              "    </tr>\n",
              "    <tr>\n",
              "      <th>1</th>\n",
              "      <td>64</td>\n",
              "      <td>2023</td>\n",
              "      <td>Japan</td>\n",
              "      <td>Chiba</td>\n",
              "      <td>112</td>\n",
              "      <td>618</td>\n",
              "      <td>550</td>\n",
              "      <td>67.0</td>\n",
              "      <td>2023-07-02</td>\n",
              "      <td>2023-07-13</td>\n",
              "    </tr>\n",
              "    <tr>\n",
              "      <th>2</th>\n",
              "      <td>63</td>\n",
              "      <td>2022</td>\n",
              "      <td>Norway</td>\n",
              "      <td>Oslo</td>\n",
              "      <td>104</td>\n",
              "      <td>589</td>\n",
              "      <td>521</td>\n",
              "      <td>68.0</td>\n",
              "      <td>2022-07-06</td>\n",
              "      <td>2022-07-16</td>\n",
              "    </tr>\n",
              "    <tr>\n",
              "      <th>3</th>\n",
              "      <td>62</td>\n",
              "      <td>2021</td>\n",
              "      <td>Russian Federation</td>\n",
              "      <td>A distributed IMO administered from St Petersburg</td>\n",
              "      <td>107</td>\n",
              "      <td>619</td>\n",
              "      <td>555</td>\n",
              "      <td>64.0</td>\n",
              "      <td>2021-07-14</td>\n",
              "      <td>2021-07-24</td>\n",
              "    </tr>\n",
              "    <tr>\n",
              "      <th>4</th>\n",
              "      <td>61</td>\n",
              "      <td>2020</td>\n",
              "      <td>Russian Federation</td>\n",
              "      <td>A distributed IMO administered from St Petersburg</td>\n",
              "      <td>105</td>\n",
              "      <td>616</td>\n",
              "      <td>560</td>\n",
              "      <td>56.0</td>\n",
              "      <td>2020-09-19</td>\n",
              "      <td>2020-09-28</td>\n",
              "    </tr>\n",
              "  </tbody>\n",
              "</table>\n",
              "</div>"
            ],
            "text/plain": [
              "   edition  year             country  \\\n",
              "0       65  2024      United Kingdom   \n",
              "1       64  2023               Japan   \n",
              "2       63  2022              Norway   \n",
              "3       62  2021  Russian Federation   \n",
              "4       61  2020  Russian Federation   \n",
              "\n",
              "                                                city  countries  \\\n",
              "0                                               Bath        108   \n",
              "1                                              Chiba        112   \n",
              "2                                               Oslo        104   \n",
              "3  A distributed IMO administered from St Petersburg        107   \n",
              "4  A distributed IMO administered from St Petersburg        105   \n",
              "\n",
              "   all_contestant  male_contestant  female_contestant  start_date    end_date  \n",
              "0             609              528               81.0  2024-07-11  2024-07-22  \n",
              "1             618              550               67.0  2023-07-02  2023-07-13  \n",
              "2             589              521               68.0  2022-07-06  2022-07-16  \n",
              "3             619              555               64.0  2021-07-14  2021-07-24  \n",
              "4             616              560               56.0  2020-09-19  2020-09-28  "
            ]
          },
          "execution_count": 4,
          "metadata": {},
          "output_type": "execute_result"
        }
      ],
      "source": [
        "\n",
        "timeline_df = pd.read_csv('./datasets/timeline_df.csv')\n",
        "country_df = pd.read_csv('./datasets/country_results_df.csv')\n",
        "\n",
        "timeline_df.head()\n"
      ]
    },
    {
      "cell_type": "code",
      "execution_count": 6,
      "metadata": {
        "colab": {
          "base_uri": "https://localhost:8080/",
          "height": 671
        },
        "id": "ThcnK2-uvGQY",
        "outputId": "6d67933d-d283-49e3-8140-fbe54229dd6e"
      },
      "outputs": [
        {
          "data": {
            "text/html": [
              "\n",
              "        <iframe\n",
              "            width=\"100%\"\n",
              "            height=\"650\"\n",
              "            src=\"http://127.0.0.1:1001/\"\n",
              "            frameborder=\"0\"\n",
              "            allowfullscreen\n",
              "            \n",
              "        ></iframe>\n",
              "        "
            ],
            "text/plain": [
              "<IPython.lib.display.IFrame at 0x1b43fa03f80>"
            ]
          },
          "metadata": {},
          "output_type": "display_data"
        }
      ],
      "source": [
        "import pandas as pd\n",
        "import dash\n",
        "from dash import dcc, html\n",
        "from dash.dependencies import Input, Output\n",
        "import plotly.express as px\n",
        "import plotly.graph_objects as go\n",
        "from plotly.subplots import make_subplots\n",
        "\n",
        "# Assuming timeline_df and country_df are already loaded as in your previous code\n",
        "timeline_df = pd.read_csv('./datasets/timeline_df.csv')\n",
        "country_df = pd.read_csv('./datasets/country_results_df.csv')\n",
        "\n",
        "# Calculate the correlation\n",
        "correlation = timeline_df['countries'].corr(timeline_df['all_contestant'])\n",
        "\n",
        "app = dash.Dash(__name__)\n",
        "\n",
        "app.layout = html.Div([\n",
        "    html.H1(\"Number of Countries and Participants Over Time\"),\n",
        "    dcc.Graph(id='timeline-chart'),\n",
        "    html.P(f\"Correlation between number of countries and participants: {correlation:.5f}\") # Display the correlation\n",
        "])\n",
        "\n",
        "@app.callback(\n",
        "    Output('timeline-chart', 'figure'),\n",
        "    Input('timeline-chart', 'id')\n",
        ")\n",
        "def update_graph(input_id):\n",
        "    fig = make_subplots(specs=[[{\"secondary_y\": True}]])\n",
        "\n",
        "    fig.add_trace(go.Scatter(x=timeline_df['year'], y=timeline_df['all_contestant'], name='Participants'), secondary_y=False)\n",
        "    fig.add_trace(go.Scatter(x=timeline_df['year'], y=timeline_df['countries'], name='Number of Countries'), secondary_y=True)\n",
        "\n",
        "    fig.update_layout(title_text=\"Number of Countries and Participants Over Time\",\n",
        "                      xaxis_title=\"Year\",\n",
        "                      yaxis_title=\"Participants\",\n",
        "                      yaxis2_title=\"Number of Countries\")\n",
        "\n",
        "    return fig\n",
        "\n",
        "if __name__ == '__main__':\n",
        "    app.run(debug=True,port=1001)\n"
      ]
    },
    {
      "cell_type": "code",
      "execution_count": 7,
      "metadata": {
        "colab": {
          "base_uri": "https://localhost:8080/",
          "height": 671
        },
        "id": "MDYJJ5mAwzvc",
        "outputId": "36264fe7-9156-434e-a068-e7d664cfdf49"
      },
      "outputs": [
        {
          "data": {
            "text/html": [
              "\n",
              "        <iframe\n",
              "            width=\"100%\"\n",
              "            height=\"650\"\n",
              "            src=\"http://127.0.0.1:1002/\"\n",
              "            frameborder=\"0\"\n",
              "            allowfullscreen\n",
              "            \n",
              "        ></iframe>\n",
              "        "
            ],
            "text/plain": [
              "<IPython.lib.display.IFrame at 0x1b44013f890>"
            ]
          },
          "metadata": {},
          "output_type": "display_data"
        }
      ],
      "source": [
        "# prompt: add a map that highlights countries that participated in the competition in each year, the chart have a slide bar to change the year.\n",
        "\n",
        "import pandas as pd\n",
        "import dash\n",
        "from dash import dcc, html\n",
        "from dash.dependencies import Input, Output\n",
        "import plotly.express as px\n",
        "\n",
        "app = dash.Dash(__name__)\n",
        "\n",
        "app.layout = html.Div([\n",
        "    html.H1(\"Countries Participating in the Competition\"),\n",
        "    dcc.Slider(\n",
        "        id='year-slider',\n",
        "        min=timeline_df['year'].min(),\n",
        "        max=timeline_df['year'].max(),\n",
        "        step=1,\n",
        "        value=timeline_df['year'].max(), # Start with the most recent year\n",
        "        marks=None,\n",
        "        tooltip={\n",
        "        \"always_visible\": True,\n",
        "        \"style\": {\"color\": \"LightSteelBlue\", \"fontSize\": \"20px\"},\n",
        "\n",
        "    },\n",
        "    ),\n",
        "    dcc.Graph(id='country-map')\n",
        "])\n",
        "\n",
        "@app.callback(\n",
        "    Output('country-map', 'figure'),\n",
        "    Input('year-slider', 'value')\n",
        ")\n",
        "def update_map(selected_year):\n",
        "    # Filter the country_df for the selected year\n",
        "    country_df_in_year = country_df[country_df['year'] == selected_year]\n",
        "\n",
        "    # Create a list of ISO Alpha-3 country codes that participated\n",
        "    countries_participated = country_df_in_year['country'].unique().tolist()\n",
        "\n",
        "    # Use plotly.express to create the choropleth map\n",
        "    fig = px.choropleth(\n",
        "        locations=countries_participated,  # Use country codes\n",
        "        locationmode='country names',  # Specify the locationmode\n",
        "        color=countries_participated, # Color countries that participated\n",
        "        color_discrete_sequence=[\"blue\"], # Assign the color\n",
        "        scope='world',\n",
        "        title=f'Countries Participating in {selected_year}',\n",
        "        height=800,  # Increased height\n",
        "        width=1200,  # Increased width\n",
        "\n",
        "    )\n",
        "    return fig\n",
        "\n",
        "if __name__ == '__main__':\n",
        "    app.run(debug=True, port=1002)\n"
      ]
    },
    {
      "cell_type": "code",
      "execution_count": 9,
      "metadata": {
        "colab": {
          "base_uri": "https://localhost:8080/",
          "height": 671
        },
        "id": "aH_CEYNA4bS3",
        "outputId": "39d08cd5-c914-4f2a-f6f0-1713f5c89e12"
      },
      "outputs": [
        {
          "data": {
            "text/html": [
              "\n",
              "        <iframe\n",
              "            width=\"100%\"\n",
              "            height=\"650\"\n",
              "            src=\"http://127.0.0.1:8051/\"\n",
              "            frameborder=\"0\"\n",
              "            allowfullscreen\n",
              "            \n",
              "        ></iframe>\n",
              "        "
            ],
            "text/plain": [
              "<IPython.lib.display.IFrame at 0x1b4440d84a0>"
            ]
          },
          "metadata": {},
          "output_type": "display_data"
        }
      ],
      "source": [
        "# prompt: create a line chart with 6 lines, y axis is each line represent the total points that all participants gain in each problems, x axis is year. The total points for problem 1 is calculated by sum column p1 of all country in that year, same for other problems\n",
        "\n",
        "import pandas as pd\n",
        "import dash\n",
        "from dash import dcc, html\n",
        "from dash.dependencies import Input, Output\n",
        "import plotly.express as px\n",
        "import plotly.graph_objects as go\n",
        "from plotly.subplots import make_subplots\n",
        "\n",
        "# Assuming timeline_df and country_df are already loaded\n",
        "timeline_df = pd.read_csv('./datasets/timeline_df.csv')\n",
        "country_df = pd.read_csv('./datasets/country_results_df.csv')\n",
        "\n",
        "app = dash.Dash(__name__)\n",
        "\n",
        "app.layout = html.Div([\n",
        "    html.H1(\"Average points for each problem over time\"),\n",
        "    dcc.Graph(id='problem-points-chart')\n",
        "])\n",
        "\n",
        "@app.callback(\n",
        "    Output('problem-points-chart', 'figure'),\n",
        "    Input('problem-points-chart', 'id')\n",
        ")\n",
        "def update_graph(input_id):\n",
        "    fig = go.Figure()\n",
        "\n",
        "    for problem in ['p1', 'p2', 'p3', 'p4', 'p5', 'p6']:  # Assuming 'p1' to 'p6' are problem columns\n",
        "        # Group by year and sum the problem points for all countries in each year\n",
        "        problem_points = country_df.groupby('year')[problem].sum()/timeline_df.set_index('year')['all_contestant']\n",
        "        fig.add_trace(go.Scatter(x=problem_points.index, y=problem_points.values, mode='lines', name=f'Problem {problem.upper()}'))\n",
        "\n",
        "    fig.update_layout(\n",
        "        title_text=\"Average points for each problem over time\",\n",
        "        xaxis_title=\"Year\",\n",
        "        yaxis_title=\"Total Points\"\n",
        "    )\n",
        "\n",
        "    return fig\n",
        "\n",
        "if __name__ == '__main__':\n",
        "    app.run(debug=True, port=8051) # Use a different port\n"
      ]
    },
    {
      "cell_type": "code",
      "execution_count": 11,
      "metadata": {
        "colab": {
          "base_uri": "https://localhost:8080/",
          "height": 671
        },
        "id": "GDzuW-gk-XWA",
        "outputId": "620e8657-2e97-4deb-f84d-1847d2f3c30e"
      },
      "outputs": [
        {
          "data": {
            "text/html": [
              "\n",
              "        <iframe\n",
              "            width=\"100%\"\n",
              "            height=\"650\"\n",
              "            src=\"http://127.0.0.1:8052/\"\n",
              "            frameborder=\"0\"\n",
              "            allowfullscreen\n",
              "            \n",
              "        ></iframe>\n",
              "        "
            ],
            "text/plain": [
              "<IPython.lib.display.IFrame at 0x1b44467da00>"
            ]
          },
          "metadata": {},
          "output_type": "display_data"
        },
        {
          "name": "stderr",
          "output_type": "stream",
          "text": [
            "C:\\Users\\ice\\AppData\\Local\\Temp\\ipykernel_20076\\3040228723.py:60: SettingWithCopyWarning:\n",
            "\n",
            "\n",
            "A value is trying to be set on a copy of a slice from a DataFrame.\n",
            "Try using .loc[row_indexer,col_indexer] = value instead\n",
            "\n",
            "See the caveats in the documentation: https://pandas.pydata.org/pandas-docs/stable/user_guide/indexing.html#returning-a-view-versus-a-copy\n",
            "\n",
            "C:\\Users\\ice\\AppData\\Local\\Temp\\ipykernel_20076\\3040228723.py:60: SettingWithCopyWarning:\n",
            "\n",
            "\n",
            "A value is trying to be set on a copy of a slice from a DataFrame.\n",
            "Try using .loc[row_indexer,col_indexer] = value instead\n",
            "\n",
            "See the caveats in the documentation: https://pandas.pydata.org/pandas-docs/stable/user_guide/indexing.html#returning-a-view-versus-a-copy\n",
            "\n",
            "C:\\Users\\ice\\AppData\\Local\\Temp\\ipykernel_20076\\3040228723.py:60: SettingWithCopyWarning:\n",
            "\n",
            "\n",
            "A value is trying to be set on a copy of a slice from a DataFrame.\n",
            "Try using .loc[row_indexer,col_indexer] = value instead\n",
            "\n",
            "See the caveats in the documentation: https://pandas.pydata.org/pandas-docs/stable/user_guide/indexing.html#returning-a-view-versus-a-copy\n",
            "\n",
            "C:\\Users\\ice\\AppData\\Local\\Temp\\ipykernel_20076\\3040228723.py:60: SettingWithCopyWarning:\n",
            "\n",
            "\n",
            "A value is trying to be set on a copy of a slice from a DataFrame.\n",
            "Try using .loc[row_indexer,col_indexer] = value instead\n",
            "\n",
            "See the caveats in the documentation: https://pandas.pydata.org/pandas-docs/stable/user_guide/indexing.html#returning-a-view-versus-a-copy\n",
            "\n",
            "C:\\Users\\ice\\AppData\\Local\\Temp\\ipykernel_20076\\3040228723.py:60: SettingWithCopyWarning:\n",
            "\n",
            "\n",
            "A value is trying to be set on a copy of a slice from a DataFrame.\n",
            "Try using .loc[row_indexer,col_indexer] = value instead\n",
            "\n",
            "See the caveats in the documentation: https://pandas.pydata.org/pandas-docs/stable/user_guide/indexing.html#returning-a-view-versus-a-copy\n",
            "\n"
          ]
        }
      ],
      "source": [
        "import pandas as pd\n",
        "import dash\n",
        "from dash import dcc, html\n",
        "from dash.dependencies import Input, Output\n",
        "import plotly.express as px\n",
        "\n",
        "# Assuming timeline_df and country_df are already loaded\n",
        "timeline_df = pd.read_csv('./datasets/timeline_df.csv')\n",
        "country_df = pd.read_csv('./datasets/country_results_df.csv')\n",
        "\n",
        "app = dash.Dash(__name__)\n",
        "\n",
        "app.layout = html.Div([\n",
        "    html.H1(\"Country Medal Performance Over Time\"),\n",
        "    dcc.Dropdown(\n",
        "        id='country-dropdown',\n",
        "        options=[{'label': country, 'value': country} for country in country_df['country'].unique()],\n",
        "        value=country_df['country'].unique()[0]  # Set a default value\n",
        "    ),\n",
        "    dcc.Graph(id='medal-chart'),\n",
        "    dcc.Graph(id='medal-points-chart') # Add a new graph component\n",
        "])\n",
        "\n",
        "@app.callback(\n",
        "    Output('medal-chart', 'figure'),\n",
        "    Input('country-dropdown', 'value')\n",
        ")\n",
        "def update_graph(selected_country):\n",
        "    # Filter data for the selected country\n",
        "    country_data = country_df[country_df['country'] == selected_country]\n",
        "\n",
        "    # Create the line graph\n",
        "    fig = go.Figure()\n",
        "\n",
        "    fig.add_trace(go.Scatter(x=country_data['year'], y=country_data['awards_gold'],\n",
        "                             mode='lines', name='Gold', line=dict(color='gold')))\n",
        "    fig.add_trace(go.Scatter(x=country_data['year'], y=country_data['awards_silver'],\n",
        "                             mode='lines', name='Silver', line=dict(color='silver')))\n",
        "    fig.add_trace(go.Scatter(x=country_data['year'], y=country_data['awards_bronze'],\n",
        "                             mode='lines', name='Bronze', line=dict(color='brown')))\n",
        "    fig.add_trace(go.Scatter(x=country_data['year'], y=country_data['awards_honorable_mentions'],\n",
        "                             mode='lines', name='Honorable Mentions', line=dict(color='red')))\n",
        "\n",
        "    fig.update_layout(\n",
        "        title=f'Medal Performance of {selected_country} Over Time',\n",
        "        xaxis_title='Year',\n",
        "        yaxis_title='Number of Medals'\n",
        "    )\n",
        "\n",
        "    return fig\n",
        "@app.callback(\n",
        "    Output('medal-points-chart', 'figure'),\n",
        "    Input('country-dropdown', 'value') # Use the same dropdown as the medal chart\n",
        ")\n",
        "def update_medal_points_chart(selected_country):\n",
        "    # Filter data for the selected country\n",
        "    country_data = country_df[country_df['country'] == selected_country]\n",
        "\n",
        "    # Calculate medal points\n",
        "    country_data['medal_points'] = (country_data['awards_gold'] * 8 +\n",
        "                                   country_data['awards_silver'] * 4 +\n",
        "                                   country_data['awards_bronze'] * 2 +\n",
        "                                   country_data['awards_honorable_mentions'] * 1)\n",
        "\n",
        "    # Create the medal points chart\n",
        "    fig = go.Figure()\n",
        "    fig.add_trace(go.Scatter(x=country_data['year'], y=country_data['medal_points'],\n",
        "                             mode='lines+markers', name='Medal Points',line=dict(color='gold')))\n",
        "\n",
        "    fig.update_layout(\n",
        "        title=f'Medal Points of {selected_country} Over Time',\n",
        "        xaxis_title='Year',\n",
        "        yaxis_title='Medal Points'\n",
        "    )\n",
        "    return fig\n",
        "\n",
        "if __name__ == '__main__':\n",
        "    app.run(debug=True, port=8052) # Use a different port\n"
      ]
    }
  ],
  "metadata": {
    "colab": {
      "provenance": []
    },
    "kernelspec": {
      "display_name": "Python 3",
      "name": "python3"
    },
    "language_info": {
      "codemirror_mode": {
        "name": "ipython",
        "version": 3
      },
      "file_extension": ".py",
      "mimetype": "text/x-python",
      "name": "python",
      "nbconvert_exporter": "python",
      "pygments_lexer": "ipython3",
      "version": "3.12.6"
    }
  },
  "nbformat": 4,
  "nbformat_minor": 0
}
